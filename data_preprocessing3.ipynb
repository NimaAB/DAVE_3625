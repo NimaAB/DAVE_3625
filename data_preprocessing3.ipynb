{
 "cells": [
  {
   "cell_type": "code",
   "execution_count": 1,
   "id": "48bd2200",
   "metadata": {},
   "outputs": [],
   "source": [
    "from faker import Faker\n",
    "import pandas as pd\n",
    "from laundromat.spacy.spacy_model import SpacyModel\n",
    "from faker.providers.credit_card import Provider as CreditCardProvider #Add creditcards to faker\n"
   ]
  },
  {
   "cell_type": "code",
   "execution_count": 2,
   "id": "998f9879",
   "metadata": {},
   "outputs": [],
   "source": [
    "#Using Faker to create dataframe\n",
    "#empty dataframe\n",
    "df = pd.DataFrame(columns=['Navn','Adresse','PersonNr','CreditCard','ipv4'])\n",
    "faker_obj = Faker(['no_NO'])\n",
    "for i in range(0,101):\n",
    "    row = [faker_obj.name(), faker_obj.address(),\n",
    "           faker_obj.ssn(), faker_obj.credit_card_number(),\n",
    "           faker_obj.ipv4()]\n",
    "    df.loc[i] = row\n"
   ]
  },
  {
   "cell_type": "code",
   "execution_count": 3,
   "id": "7b3c9fab",
   "metadata": {},
   "outputs": [
    {
     "data": {
      "text/plain": [
       "['Hi, my name is Lars Gulbrandsen-Eliassen.I wonder if you deliver to Brekkegrenda 98A, 4350 Mathiashelle. My credi card nr is 180072042939919 and my ssn is 29115831044',\n",
       " 'Hi, my name is Nils Karlsen.I wonder if you deliver to Liestubben 98, 1396 Johannesstad. My credi card nr is 38284375109572 and my ssn is 13084725565',\n",
       " 'Hi, my name is Prof. Karl Amundsen.I wonder if you deliver to Dahlhaugen 2, 1692 Ruud. My credi card nr is 5335953346844371 and my ssn is 20087219578',\n",
       " 'Hi, my name is May Ellingsen.I wonder if you deliver to Johnsenlyngen 4, 3028 Arneborg. My credi card nr is 3525476439031446 and my ssn is 20125921303',\n",
       " 'Hi, my name is Erling Strøm-Moe.I wonder if you deliver to Simonsengjerdet 1, 6767 Evensen. My credi card nr is 584706401877 and my ssn is 21034937785',\n",
       " 'Hi, my name is Håkon Andersen.I wonder if you deliver to Eideroa 6, 1352 Karldal. My credi card nr is 348095608609955 and my ssn is 05028140659',\n",
       " 'Hi, my name is Randi-Inger Mikkelsen.I wonder if you deliver to Knudsenvollen 67A, 8874 Janmark. My credi card nr is 180022710554664 and my ssn is 12095800643',\n",
       " 'Hi, my name is Dag-Tom Gulbrandsen.I wonder if you deliver to Halvorsenskrenten 6, 8816 Robertby. My credi card nr is 4520469073186 and my ssn is 21124646011',\n",
       " 'Hi, my name is Thomas Ellingsen.I wonder if you deliver to Karlsenmyra 16, 8204 Nilsen. My credi card nr is 370904814431743 and my ssn is 03128335160',\n",
       " 'Hi, my name is Prof. Frank Thorsen.I wonder if you deliver to Engenstranda 15, 2388 Sofiesjøen. My credi card nr is 6515476097820812 and my ssn is 11075026988']"
      ]
     },
     "execution_count": 3,
     "metadata": {},
     "output_type": "execute_result"
    }
   ],
   "source": [
    "# Creating 10 lines of text:\n",
    "text_arr = []\n",
    "#We could use the following to loop throw all the rows:\n",
    "#for i, row in df.iterrows():\n",
    "\n",
    "for i in range(0,10):\n",
    "    row = df.iloc[i]\n",
    "    name = row[0]\n",
    "    adress = row[1]\n",
    "    ssn = row[2]\n",
    "    cc = row[3]\n",
    "    text_arr.append(f'Hi, my name is {name}.I wonder if you deliver to {adress}. My credi card nr is {cc} and my ssn is {ssn}')\n",
    "\n",
    "text_arr\n",
    "    "
   ]
  },
  {
   "cell_type": "code",
   "execution_count": 4,
   "id": "d7920823",
   "metadata": {},
   "outputs": [],
   "source": [
    "#Anonymization: NOT WORKING\n",
    "'''\n",
    "nlp = SpacyModel()\n",
    "\n",
    "#for line in text_arr:\n",
    "    #entities = nlp.predict(line)\n",
    "    #replaced_text_1 = nlp.replace(line, replacement=\"entity\",replacement_char=\":^)\")\n",
    "    #print(line)\n",
    "    #print(replaced_text_1 + '\\n')\n",
    "'''    "
   ]
  },
  {
   "cell_type": "code",
   "execution_count": null,
   "id": "a36bf631",
   "metadata": {},
   "outputs": [],
   "source": [
    "\n"
   ]
  }
 ],
 "metadata": {
  "kernelspec": {
   "display_name": "Python 3",
   "language": "python",
   "name": "python3"
  },
  "language_info": {
   "codemirror_mode": {
    "name": "ipython",
    "version": 3
   },
   "file_extension": ".py",
   "mimetype": "text/x-python",
   "name": "python",
   "nbconvert_exporter": "python",
   "pygments_lexer": "ipython3",
   "version": "3.8.11"
  }
 },
 "nbformat": 4,
 "nbformat_minor": 5
}
